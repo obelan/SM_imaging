{
 "cells": [
  {
   "cell_type": "code",
   "execution_count": 3,
   "id": "aa02be60",
   "metadata": {},
   "outputs": [
    {
     "ename": "NameError",
     "evalue": "name 'file' is not defined",
     "output_type": "error",
     "traceback": [
      "\u001b[0;31m---------------------------------------------------------------------------\u001b[0m",
      "\u001b[0;31mNameError\u001b[0m                                 Traceback (most recent call last)",
      "\u001b[0;32m/var/folders/s4/v75mj_yd2r16zss6cpvppp7s4lcwpk/T/ipykernel_33630/1362651284.py\u001b[0m in \u001b[0;36m<module>\u001b[0;34m\u001b[0m\n\u001b[1;32m      1\u001b[0m \u001b[0;31m## That's how I called kymograph to my workspace (YOU MIGHT CALL IT IN a different way, for example have specific numeber as index)\u001b[0m\u001b[0;34m\u001b[0m\u001b[0;34m\u001b[0m\u001b[0;34m\u001b[0m\u001b[0m\n\u001b[0;32m----> 2\u001b[0;31m \u001b[0mkymo\u001b[0m \u001b[0;34m=\u001b[0m \u001b[0mfile\u001b[0m\u001b[0;34m.\u001b[0m\u001b[0mkymos\u001b[0m\u001b[0;34m[\u001b[0m\u001b[0;34m(\u001b[0m\u001b[0mkymo_number\u001b[0m\u001b[0;34m[\u001b[0m\u001b[0mindex\u001b[0m\u001b[0;34m]\u001b[0m\u001b[0;34m)\u001b[0m\u001b[0;34m]\u001b[0m\u001b[0;34m\u001b[0m\u001b[0;34m\u001b[0m\u001b[0m\n\u001b[0m\u001b[1;32m      3\u001b[0m \u001b[0mtimestamps\u001b[0m \u001b[0;34m=\u001b[0m \u001b[0mkymo\u001b[0m\u001b[0;34m.\u001b[0m\u001b[0mtimestamps\u001b[0m\u001b[0;34m/\u001b[0m\u001b[0;36m1e9\u001b[0m\u001b[0;34m\u001b[0m\u001b[0;34m\u001b[0m\u001b[0m\n\u001b[1;32m      4\u001b[0m \u001b[0;34m\u001b[0m\u001b[0m\n\u001b[1;32m      5\u001b[0m \u001b[0;34m\u001b[0m\u001b[0m\n",
      "\u001b[0;31mNameError\u001b[0m: name 'file' is not defined"
     ]
    }
   ],
   "source": [
    "## That's how I called kymograph to my workspace (YOU MIGHT CALL IT IN a different way, for example have specific numeber as index)\n",
    "kymo = file.kymos[(kymo_number[index])]\n",
    "timestamps = kymo.timestamps/1e9\n",
    "\n",
    "\n",
    "f = pylake.File(name)\n",
    "\n",
    "kymo = file.kymos[(kymo_number[index])]\n",
    "timestamps = kymo.timestamps/1e9\n",
    "\n",
    "# Red color\n",
    "timestamps1 = f[\"Confocal diagnostics\"][\"Excitation Laser Red\"].timestamps\n",
    "data1 = f[\"Confocal diagnostics\"][\"Excitation Laser Red\"].data\n",
    "seconds_diagnostics = (timestamps1/1e9 - timestamps[0,0])  #originally in nanoseconds\n",
    "#print((f[\"Confocal diagnostics\"][\"Excitation Laser Red\"].timestamps - timestamps[0,0])/1e9)\n",
    "\n",
    "#Green color\n",
    "timestamps2 = f[\"Confocal diagnostics\"][\"Excitation Laser Green\"].timestamps\n",
    "data2 = f[\"Confocal diagnostics\"][\"Excitation Laser Green\"].data\n",
    "seconds_diagnostics2 = (timestamps2/1e9 - timestamps[0,0])  #originally in nanoseconds\n",
    "\n",
    "#The timestamps field is in nanoseconds since epoch, so to convert it to seconds since the start of the experiment you should do:\n",
    "print('Red laser power timpoints when a change was made: ')\n",
    "print(seconds_diagnostics)\n",
    "#print(timestamps1)\n",
    "print('Red laser power INTENSITY at that points: ')\n",
    "print(data1)\n",
    "print('Green laser power timpoints when a change was made: ')\n",
    "print(seconds_diagnostics2)\n",
    "print('Green laser power INTENSITY at that points: ')\n",
    "print(data2) # in case the laser power was changed throughout the acquisition, there's more numbers in each string\n",
    "\n",
    "print('Red laser power at start = ' +str(data1[0]) + str('%'))\n",
    "print('Green laser power at start= ' +str(data2[0]) + str('%'))\n",
    "\n"
   ]
  },
  {
   "cell_type": "code",
   "execution_count": null,
   "id": "a3e55463",
   "metadata": {},
   "outputs": [],
   "source": []
  }
 ],
 "metadata": {
  "kernelspec": {
   "display_name": "Python 3 (ipykernel)",
   "language": "python",
   "name": "python3"
  },
  "language_info": {
   "codemirror_mode": {
    "name": "ipython",
    "version": 3
   },
   "file_extension": ".py",
   "mimetype": "text/x-python",
   "name": "python",
   "nbconvert_exporter": "python",
   "pygments_lexer": "ipython3",
   "version": "3.9.5"
  }
 },
 "nbformat": 4,
 "nbformat_minor": 5
}
